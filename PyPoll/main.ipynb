{
 "cells": [
  {
   "cell_type": "code",
   "execution_count": 53,
   "metadata": {},
   "outputs": [],
   "source": [
    "import os\n",
    "import csv"
   ]
  },
  {
   "cell_type": "code",
   "execution_count": 59,
   "metadata": {},
   "outputs": [],
   "source": [
    "csvpath = os.path.join('Resources','election_data.csv')\n",
    "#declare dictionary\n",
    "candidates={} \n",
    "totalvotes = 0"
   ]
  },
  {
   "cell_type": "code",
   "execution_count": 60,
   "metadata": {},
   "outputs": [
    {
     "name": "stdout",
     "output_type": "stream",
     "text": [
      "Election Results\n",
      "-------------------------\n",
      "Total Votes: 28168008\n",
      "-------------------------\n",
      "Khan: 63.0% (2218231)\n",
      "Correy: 20.0% (704200)\n",
      "Li: 14.0% (492940)\n",
      "O'Tooley: 3.0% (105630)\n",
      "-------------------------\n",
      "Winner: Khan\n",
      "-------------------------\n"
     ]
    }
   ],
   "source": [
    "with open(csvpath, newline='') as csvfile:\n",
    "    csvreader = csv.reader(csvfile, delimiter=',') \n",
    "    csv_header = next(csvreader)\n",
    "\n",
    "    for row in csvreader: \n",
    "        #sum votes\n",
    "        total_votes += 1\n",
    "        if row[2] not in candidates:\n",
    "            #add new candidate\n",
    "            candidates[row[2]]=1\n",
    "        else:\n",
    "            #add vote for candidate\n",
    "            candidates[row[2]]+=1 \n",
    "    Total=sum(candidates.values()) \n",
    "            \n",
    "    print(\"Election Results\")\n",
    "    print(\"-------------------------\")\n",
    "    print(f\"Total Votes: {total_votes}\")\n",
    "    print(\"-------------------------\")\n",
    "    \n",
    "    for x,y in candidates.items(): \n",
    "        print(f\"{x}: {round(y/Total*100,3)}% ({y})\") \n",
    "    print(\"-------------------------\")\n",
    "    print(f\"Winner: {max(candidates,key=candidates.get)}\")\n",
    "    print(\"-------------------------\")"
   ]
  },
  {
   "cell_type": "code",
   "execution_count": 62,
   "metadata": {},
   "outputs": [],
   "source": [
    "#create txt file for results\n",
    "txtFile = open(\"analysis.txt\",\"w\")\n",
    "txtFile.write(\"Election Results\\n\")\n",
    "txtFile.write(\"Total Votes: \\n\")\n",
    "txtFile.write(\"-------------------------\\n\")\n",
    "for x,y in cand.items():\n",
    "        txtFile.write(f\"{x}: {round(y/Total*100,2)}% ({y})\\n\")\n",
    "txtFile.write(\"-------------------------\\n\")\n",
    "txtFile.write(f\"Winner: {max(candidates,key=candidates.get)}\\n\")\n",
    "txtFile.write(\"-------------------------\")\n",
    "txtFile.close()"
   ]
  },
  {
   "cell_type": "code",
   "execution_count": null,
   "metadata": {},
   "outputs": [],
   "source": []
  }
 ],
 "metadata": {
  "kernelspec": {
   "display_name": "Python 3",
   "language": "python",
   "name": "python3"
  },
  "language_info": {
   "codemirror_mode": {
    "name": "ipython",
    "version": 3
   },
   "file_extension": ".py",
   "mimetype": "text/x-python",
   "name": "python",
   "nbconvert_exporter": "python",
   "pygments_lexer": "ipython3",
   "version": "3.7.6"
  }
 },
 "nbformat": 4,
 "nbformat_minor": 4
}
