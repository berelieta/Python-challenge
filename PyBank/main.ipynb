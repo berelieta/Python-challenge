{
 "cells": [
  {
   "cell_type": "code",
   "execution_count": 75,
   "metadata": {},
   "outputs": [],
   "source": [
    "import os\n",
    "import csv"
   ]
  },
  {
   "cell_type": "code",
   "execution_count": 76,
   "metadata": {},
   "outputs": [],
   "source": [
    "csvpath = os.path.join('Resources','budget_data.csv')\n",
    "#declare list\n",
    "dataset=[1,0,0,0,0,0] \n",
    "date=[0,0]\n",
    "rowvl=0"
   ]
  },
  {
   "cell_type": "code",
   "execution_count": 77,
   "metadata": {},
   "outputs": [
    {
     "name": "stdout",
     "output_type": "stream",
     "text": [
      "Financial Analysis\n",
      "----------------------------\n",
      "Total Months: 86\n",
      "Total: 38382578\n",
      "Average Change: $-2315.12\n",
      "Greatest Increase in Profits: Feb-2012 ($1926159)\n",
      "Greatest Decrease in Profits: Sep-2013 ($-2196167)\n"
     ]
    }
   ],
   "source": [
    "with open(csvpath, newline='') as csvfile:\n",
    "    csvreader = csv.reader(csvfile, delimiter=\",\")\n",
    "    #skip header\n",
    "    csvheader =next(csvreader) \n",
    "    #variable to iterate in rows\n",
    "    t=next(csvreader) \n",
    "    date[0]=t[0]\n",
    "    date[1]=t[0]\n",
    "    dataset[1]+=int(t[1])\n",
    "    rowvl=int(t[1])\n",
    "         \n",
    "    for row in csvreader:\n",
    "        #add a different month\n",
    "        dataset[0]+=1 \n",
    "        #profit/losses change\n",
    "        dataset[4]=int(row[1])-rowvl \n",
    "        #add profit/losses change\n",
    "        dataset[5]+=dataset[4] \n",
    "        rowvl=int(row[1])\n",
    "        #total\n",
    "        dataset[1]+=rowvl \n",
    "        #best profit/losses\n",
    "        if dataset[4]>dataset[2]:  \n",
    "            dataset[2]=dataset[4]\n",
    "            date[0]=row[0]\n",
    "        #worst profit/losses\n",
    "        elif dataset[4]<dataset[3]: \n",
    "            dataset[3]=dataset[4]\n",
    "            date[1]=row[0]\n",
    "\n",
    "    print(\"Financial Analysis\")\n",
    "    print(\"----------------------------\")\n",
    "    print(f\"Total Months: {dataset[0]}\")\n",
    "    print(f\"Total: {dataset[1]}\")\n",
    "    print(f\"Average Change: ${round(dataset[5]/(dataset[0]-1),2)}\") \n",
    "    print(f\"Greatest Increase in Profits: {date[0]} (${dataset[2]})\")\n",
    "    print(f\"Greatest Decrease in Profits: {date[1]} (${dataset[3]})\")\n",
    "\n"
   ]
  },
  {
   "cell_type": "code",
   "execution_count": 78,
   "metadata": {},
   "outputs": [],
   "source": [
    "#create a txt file to save results\n",
    "txtresults = open(\"analysis.txt\",\"w\")\n",
    "txtresults.write(\"Financial Analysis\\n\")\n",
    "txtresults.write(\"----------------------------\")\n",
    "txtresults.write(f\"\\nTotal Months: {dataset[0]}\")\n",
    "txtresults.write(f\"\\nTotal: {dataset[1]}\")\n",
    "txtresults.write(f\"\\nAverage  Change: ${round(dataset[5]/(dataset[0]-1),2)}\")\n",
    "txtresults.write(f\"\\nGreatest Increase in Profits: {date[0]} (${dataset[2]})\")\n",
    "txtresults.write(f\"Greatest Decrease in Profits: {date[1]} (${dataset[3]})\")\n",
    "txtresults.close()\n",
    "\n"
   ]
  },
  {
   "cell_type": "code",
   "execution_count": null,
   "metadata": {},
   "outputs": [],
   "source": []
  }
 ],
 "metadata": {
  "kernelspec": {
   "display_name": "Python 3",
   "language": "python",
   "name": "python3"
  },
  "language_info": {
   "codemirror_mode": {
    "name": "ipython",
    "version": 3
   },
   "file_extension": ".py",
   "mimetype": "text/x-python",
   "name": "python",
   "nbconvert_exporter": "python",
   "pygments_lexer": "ipython3",
   "version": "3.7.6"
  }
 },
 "nbformat": 4,
 "nbformat_minor": 4
}
